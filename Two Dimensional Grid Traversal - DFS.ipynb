{
 "cells": [
  {
   "cell_type": "markdown",
   "metadata": {},
   "source": [
    "# Two Dimensional Grid Traversal - DFS"
   ]
  },
  {
   "cell_type": "markdown",
   "metadata": {},
   "source": [
    "Grid is represented as an two-dimensional array. A two-dimensional array is really nothing more than an array of arrays."
   ]
  },
  {
   "cell_type": "markdown",
   "metadata": {},
   "source": [
    "### Iterative DFS"
   ]
  },
  {
   "cell_type": "markdown",
   "metadata": {},
   "source": [
    "`Depth First Search` starts at the given position and explores the grid in depth."
   ]
  },
  {
   "cell_type": "code",
   "execution_count": 5,
   "metadata": {
    "collapsed": true
   },
   "outputs": [],
   "source": [
    "# Time O(n) / Space O(n)\n",
    "def dfs(grid, position):\n",
    "    visited = []\n",
    "    stack = [position]\n",
    "    while len(stack) > 0:\n",
    "        position = stack.pop()\n",
    "        if position not in visited:\n",
    "            visited.append(position)\n",
    "        row, col = position\n",
    "        neighbours = get_neighbours(grid, row, col)\n",
    "        for neighbour in neighbours:\n",
    "            if neighbour not in visited:\n",
    "                stack.append(neighbour)\n",
    "    return visited\n",
    "\n",
    "\n",
    "def get_neighbours(grid, row, col):\n",
    "    # left , right, top, bottom\n",
    "    neighbours = [(row, col - 1), (row, col + 1), (row - 1, col), (row + 1, col)]\n",
    "    valid_neighbours = []\n",
    "    for neighbour in neighbours:\n",
    "        n_row, n_col = neighbour\n",
    "        if n_row >= 0 and n_row < len(grid) and n_col >= 0 and n_col < len(grid[0]):\n",
    "            valid_neighbours.append(neighbour)\n",
    "    return valid_neighbours\n",
    "           "
   ]
  },
  {
   "cell_type": "code",
   "execution_count": 6,
   "metadata": {
    "collapsed": true
   },
   "outputs": [],
   "source": [
    "grid = [\n",
    "    [1, 2, 3, 4, 5],\n",
    "    [6, 7, 8, 9, 10],\n",
    "    [11, 12, 13, 14, 15],\n",
    "    [16, 17, 18, 19, 20],\n",
    "    [21, 22, 23, 24, 25],\n",
    "    [26, 27, 28, 29, 30]\n",
    "]"
   ]
  },
  {
   "cell_type": "code",
   "execution_count": 7,
   "metadata": {
    "collapsed": false
   },
   "outputs": [
    {
     "name": "stdout",
     "output_type": "stream",
     "text": [
      "1\n",
      "6\n",
      "11\n",
      "16\n",
      "21\n",
      "26\n",
      "27\n",
      "22\n",
      "17\n",
      "12\n",
      "7\n",
      "2\n",
      "3\n",
      "8\n",
      "13\n",
      "18\n",
      "23\n",
      "28\n",
      "29\n",
      "24\n",
      "19\n",
      "14\n",
      "9\n",
      "4\n",
      "5\n",
      "10\n",
      "15\n",
      "20\n",
      "25\n",
      "30\n"
     ]
    }
   ],
   "source": [
    "visited = dfs(grid, (0, 0))\n",
    "\n",
    "for v in visited:\n",
    "    row, col = v\n",
    "    print(grid[row][col])"
   ]
  },
  {
   "cell_type": "markdown",
   "metadata": {},
   "source": [
    "### Recursive DFS"
   ]
  },
  {
   "cell_type": "code",
   "execution_count": 8,
   "metadata": {
    "collapsed": true
   },
   "outputs": [],
   "source": [
    "# Time O(n) / Space O(n)\n",
    "def dfs(grid, position):\n",
    "    visited = []\n",
    "    \n",
    "    def dfs_helper(grid, position, visited):\n",
    "        # base case\n",
    "        if position in visited:\n",
    "            return\n",
    "        visited.append(position)\n",
    "        row, col = position\n",
    "        neighbours = get_neighbours(grid, row, col)\n",
    "        for neighbour in neighbours:\n",
    "            if neighbour not in visited:\n",
    "                # recursive case\n",
    "                dfs_helper(grid, neighbour, visited)\n",
    "                \n",
    "    dfs_helper(grid, position, visited)\n",
    "    \n",
    "    return visited\n",
    "        \n",
    "def get_neighbours(grid, row, col):\n",
    "    # left , right, top, bottom\n",
    "    neighbours = [(row, col - 1), (row, col + 1), (row - 1, col), (row + 1, col)]\n",
    "    valid_neighbours = []\n",
    "    for neighbour in neighbours:\n",
    "        n_row, n_col = neighbour\n",
    "        if n_row >= 0 and n_row < len(grid) and n_col >= 0 and n_col < len(grid[0]):\n",
    "            valid_neighbours.append(neighbour)\n",
    "    return valid_neighbours\n",
    "        "
   ]
  },
  {
   "cell_type": "code",
   "execution_count": 9,
   "metadata": {
    "collapsed": true
   },
   "outputs": [],
   "source": [
    "grid = [\n",
    "    [1, 2, 3, 4, 5],\n",
    "    [6, 7, 8, 9, 10],\n",
    "    [11, 12, 13, 14, 15],\n",
    "    [16, 17, 18, 19, 20],\n",
    "    [21, 22, 23, 24, 25],\n",
    "    [26, 27, 28, 29, 30]\n",
    "]"
   ]
  },
  {
   "cell_type": "code",
   "execution_count": 10,
   "metadata": {
    "collapsed": false
   },
   "outputs": [
    {
     "name": "stdout",
     "output_type": "stream",
     "text": [
      "1\n",
      "2\n",
      "3\n",
      "4\n",
      "5\n",
      "10\n",
      "9\n",
      "8\n",
      "7\n",
      "6\n",
      "11\n",
      "12\n",
      "13\n",
      "14\n",
      "15\n",
      "20\n",
      "19\n",
      "18\n",
      "17\n",
      "16\n",
      "21\n",
      "22\n",
      "23\n",
      "24\n",
      "25\n",
      "30\n",
      "29\n",
      "28\n",
      "27\n",
      "26\n"
     ]
    }
   ],
   "source": [
    "visited = dfs(grid, (0, 0))\n",
    "\n",
    "for v in visited:\n",
    "    row, col = v\n",
    "    print(grid[row][col])"
   ]
  },
  {
   "cell_type": "code",
   "execution_count": null,
   "metadata": {
    "collapsed": true
   },
   "outputs": [],
   "source": []
  },
  {
   "cell_type": "code",
   "execution_count": null,
   "metadata": {
    "collapsed": true
   },
   "outputs": [],
   "source": []
  }
 ],
 "metadata": {
  "kernelspec": {
   "display_name": "Python 3",
   "language": "python",
   "name": "python3"
  },
  "language_info": {
   "codemirror_mode": {
    "name": "ipython",
    "version": 3
   },
   "file_extension": ".py",
   "mimetype": "text/x-python",
   "name": "python",
   "nbconvert_exporter": "python",
   "pygments_lexer": "ipython3",
   "version": "3.6.0"
  }
 },
 "nbformat": 4,
 "nbformat_minor": 2
}
