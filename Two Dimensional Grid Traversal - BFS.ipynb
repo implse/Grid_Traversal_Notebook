{
 "cells": [
  {
   "cell_type": "markdown",
   "metadata": {},
   "source": [
    "# Two Dimensional Grid Traversal - BFS"
   ]
  },
  {
   "cell_type": "markdown",
   "metadata": {},
   "source": [
    "`Breadth First Search` starts at the given position and explores the grid in width or layerwise."
   ]
  },
  {
   "cell_type": "code",
   "execution_count": 15,
   "metadata": {
    "collapsed": true
   },
   "outputs": [],
   "source": [
    "def BFS(grid, position):\n",
    "    visited = []\n",
    "    queue = [position]  \n",
    "    while len(queue) > 0:\n",
    "        position = queue.pop(0)\n",
    "        if position not in visited:\n",
    "            visited.append(position)\n",
    "        row, col = position\n",
    "        neighbours = get_neighbours(grid, row, col)      \n",
    "        for neighbour in neighbours:\n",
    "            if neighbour not in visited:\n",
    "                queue.append(neighbour)               \n",
    "    return visited\n",
    "        \n",
    "\n",
    "def get_neighbours(grid, row, col):\n",
    "    # left , right, top, bottom\n",
    "    neighbours = [(row, col - 1), (row, col + 1), (row - 1, col), (row + 1, col)]\n",
    "    valid_neighbours = []\n",
    "    for neighbour in neighbours:\n",
    "        n_row, n_col = neighbour\n",
    "        if n_row >= 0 and n_row < len(grid) and n_col >= 0 and n_col < len(grid[0]):\n",
    "            valid_neighbours.append(neighbour)\n",
    "    return valid_neighbours  "
   ]
  },
  {
   "cell_type": "code",
   "execution_count": 16,
   "metadata": {
    "collapsed": true
   },
   "outputs": [],
   "source": [
    "grid = [\n",
    "    [1, 2, 3, 4, 5],\n",
    "    [6, 7, 8, 9, 10],\n",
    "    [11, 12, 13, 14, 15],\n",
    "    [16, 17, 18, 19, 20],\n",
    "    [21, 22, 23, 24, 25],\n",
    "    [26, 27, 28, 29, 30]\n",
    "]"
   ]
  },
  {
   "cell_type": "code",
   "execution_count": 20,
   "metadata": {
    "collapsed": false
   },
   "outputs": [
    {
     "name": "stdout",
     "output_type": "stream",
     "text": [
      "18\n",
      "17\n",
      "19\n",
      "13\n",
      "23\n",
      "16\n",
      "12\n",
      "22\n",
      "20\n",
      "14\n",
      "24\n",
      "8\n",
      "28\n",
      "11\n",
      "21\n",
      "7\n",
      "27\n",
      "15\n",
      "25\n",
      "9\n",
      "29\n",
      "3\n",
      "6\n",
      "26\n",
      "2\n",
      "10\n",
      "30\n",
      "4\n",
      "1\n",
      "5\n"
     ]
    }
   ],
   "source": [
    "visited = BFS(grid, (3, 2))\n",
    "\n",
    "for v in visited:\n",
    "    row, col = v\n",
    "    print(grid[row][col])"
   ]
  },
  {
   "cell_type": "markdown",
   "metadata": {},
   "source": [
    "## BFS using Python deque"
   ]
  },
  {
   "cell_type": "markdown",
   "metadata": {},
   "source": [
    "The `deque` from `collections` is a list-like container with fast appends and pops on either end."
   ]
  },
  {
   "cell_type": "code",
   "execution_count": 25,
   "metadata": {
    "collapsed": true
   },
   "outputs": [],
   "source": [
    "from collections import deque\n",
    "\n",
    "def BFS(grid, position):\n",
    "    visited = []\n",
    "    queue = deque([position])\n",
    "    while len(queue) > 0:\n",
    "        position = queue.popleft()\n",
    "        if position not in visited:\n",
    "            visited.append(position)\n",
    "        row, col = position\n",
    "        neighbours = get_neighbours(grid, row, col)      \n",
    "        for neighbour in neighbours:\n",
    "            if neighbour not in visited:\n",
    "                queue.append(neighbour)               \n",
    "    return visited\n",
    "        \n",
    "\n",
    "def get_neighbours(grid, row, col):\n",
    "    # left , right, top, bottom\n",
    "    neighbours = [(row, col - 1), (row, col + 1), (row - 1, col), (row + 1, col)]\n",
    "    valid_neighbours = []\n",
    "    for neighbour in neighbours:\n",
    "        n_row, n_col = neighbour\n",
    "        if n_row >= 0 and n_row < len(grid) and n_col >= 0 and n_col < len(grid[0]):\n",
    "            valid_neighbours.append(neighbour)\n",
    "    return valid_neighbours"
   ]
  },
  {
   "cell_type": "code",
   "execution_count": 26,
   "metadata": {
    "collapsed": true
   },
   "outputs": [],
   "source": [
    "grid = [\n",
    "    [1, 2, 3, 4, 5],\n",
    "    [6, 7, 8, 9, 10],\n",
    "    [11, 12, 13, 14, 15],\n",
    "    [16, 17, 18, 19, 20],\n",
    "    [21, 22, 23, 24, 25],\n",
    "    [26, 27, 28, 29, 30]\n",
    "]"
   ]
  },
  {
   "cell_type": "code",
   "execution_count": 27,
   "metadata": {
    "collapsed": false
   },
   "outputs": [
    {
     "name": "stdout",
     "output_type": "stream",
     "text": [
      "18\n",
      "17\n",
      "19\n",
      "13\n",
      "23\n",
      "16\n",
      "12\n",
      "22\n",
      "20\n",
      "14\n",
      "24\n",
      "8\n",
      "28\n",
      "11\n",
      "21\n",
      "7\n",
      "27\n",
      "15\n",
      "25\n",
      "9\n",
      "29\n",
      "3\n",
      "6\n",
      "26\n",
      "2\n",
      "10\n",
      "30\n",
      "4\n",
      "1\n",
      "5\n"
     ]
    }
   ],
   "source": [
    "visited = BFS(grid, (3, 2))\n",
    "\n",
    "for v in visited:\n",
    "    row, col = v\n",
    "    print(grid[row][col])"
   ]
  },
  {
   "cell_type": "code",
   "execution_count": null,
   "metadata": {
    "collapsed": true
   },
   "outputs": [],
   "source": []
  }
 ],
 "metadata": {
  "kernelspec": {
   "display_name": "Python 3",
   "language": "python",
   "name": "python3"
  },
  "language_info": {
   "codemirror_mode": {
    "name": "ipython",
    "version": 3
   },
   "file_extension": ".py",
   "mimetype": "text/x-python",
   "name": "python",
   "nbconvert_exporter": "python",
   "pygments_lexer": "ipython3",
   "version": "3.6.0"
  }
 },
 "nbformat": 4,
 "nbformat_minor": 2
}
